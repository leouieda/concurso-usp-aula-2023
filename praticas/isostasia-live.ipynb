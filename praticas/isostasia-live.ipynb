{
 "cells": [
  {
   "cell_type": "markdown",
   "id": "2cefd042-a717-47bb-acb2-32c38b851a27",
   "metadata": {
    "tags": [],
    "user_expressions": []
   },
   "source": [
    "(pratica_isostasia)=\n",
    "# Prática 2: Isostasia, flexura e gravidade\n",
    "\n",
    "```{admonition} Objetivos\n",
    ":class: important\n",
    "\n",
    "1. Observar como a teoria da compensação isostática se reflete nos dados observados.\n",
    "1. Aprender as técnicas práticas que são necessárias para conectar a teoria à modelagem dos dados.\n",
    "1. Explorar o estado isostático de diferentes regiões do planeta.\n",
    "1. Obter uma ferramenta que nos permita investigar a rigidez da placa oceânica através de dados de gravidade.\n",
    "```\n",
    "\n",
    "```{admonition} Antes de começar\n",
    ":class: seealso\n",
    "\n",
    "Esta prática depende do conteúdo das aulas:\n",
    "\n",
    "* {ref}`litosfera`\n",
    "* {ref}`gravidade`\n",
    "* {ref}`isostasia`\n",
    "* {ref}`pratica_grav`\n",
    "```"
   ]
  },
  {
   "cell_type": "markdown",
   "id": "c69f81df-ead8-491b-bd03-71189b14f308",
   "metadata": {
    "user_expressions": []
   },
   "source": [
    "## Bibliotecas\n",
    "\n",
    "Vamos primeiro carregar as bibliotecas que vamos utilizar nessa prática."
   ]
  },
  {
   "cell_type": "code",
   "execution_count": null,
   "id": "a34fdb33-d7ea-4715-a298-5328c979a5a3",
   "metadata": {
    "tags": []
   },
   "outputs": [],
   "source": [
    "import numpy as np\n",
    "import matplotlib.pyplot as plt\n",
    "import xarray as xr\n",
    "import xrft\n",
    "import harmonica as hm\n",
    "import verde as vd\n",
    "import pyproj\n",
    "import pygmt\n",
    "import ipywidgets\n",
    "import warnings"
   ]
  },
  {
   "cell_type": "markdown",
   "id": "a4f988e3-0afb-4ddc-a8c0-3848fe212910",
   "metadata": {
    "tags": [],
    "user_expressions": []
   },
   "source": [
    "## Dados\n",
    "\n",
    "Nesta prática, vamos utilizar os dados de distúrbio da gravidade, anomalia Bouguer simples e topografia que compilamos na prática passada."
   ]
  },
  {
   "cell_type": "code",
   "execution_count": null,
   "id": "959a5606-1cb3-4972-88c4-1dace0add016",
   "metadata": {
    "tags": []
   },
   "outputs": [],
   "source": []
  },
  {
   "cell_type": "markdown",
   "id": "554028cc-2981-499f-92e0-5218fb8db530",
   "metadata": {
    "user_expressions": []
   },
   "source": [
    "## Bouguer vs topografia\n",
    "\n",
    "Como vimos na aula teórica, nos casos em que há compensação isostática segundo o modelo de Airy esperamos que a anomalia Bouguer possua uma **relação linear** com a topografia. Vamos verificar se isso é verdade para a Terra como um todo utilizando nossos dados."
   ]
  },
  {
   "cell_type": "code",
   "execution_count": null,
   "id": "a1f22cf7-b515-48cc-9d86-473ab246be6f",
   "metadata": {
    "tags": []
   },
   "outputs": [],
   "source": []
  },
  {
   "cell_type": "markdown",
   "id": "1bd2bfba-3b01-4b48-b405-95ebb8edba09",
   "metadata": {
    "user_expressions": []
   },
   "source": [
    "A princípio parece que sim! Vamos calcular o valor teórico predito para ser se nosso modelo se ajusta aos dados. Lembrando que:\n",
    "\n",
    "* Nos **continentes**: $ \\delta g_{bg} = - 2 \\pi G \\rho_c h $\n",
    "* Nos **oceanos**: $ \\delta g_{bg} = - 2 \\pi G (\\rho_c - \\rho_w) h $\n",
    "* Constante gravitacional: $G = 6.67430 \\times 10^{-11}\\ m^3 kg^{-1} s^{-2}$"
   ]
  },
  {
   "cell_type": "code",
   "execution_count": null,
   "id": "c89292a6-3a91-41f5-aef9-6d0d4c3a7d3b",
   "metadata": {
    "tags": []
   },
   "outputs": [],
   "source": [
    "def bouguer_airy(topografia, densidade_crosta_continental, densidade_crosta_oceanica, densidade_agua):\n",
    "    \"\"\"\n",
    "    Calcula a anomalia Bouguer prevista por um modelo de Airy.\n",
    "    \"\"\"\n",
    "    G = 6.67430e-11\n",
    "    bouguer = \n",
    "    \n",
    "    return bouguer"
   ]
  },
  {
   "cell_type": "markdown",
   "id": "c8c8e89a-b242-414e-a9bd-894860330ab1",
   "metadata": {
    "user_expressions": []
   },
   "source": [
    "Com essa função, podemos prever os dados de anomalia Bouguer utilizando densidades médias para a crosta. "
   ]
  },
  {
   "cell_type": "code",
   "execution_count": null,
   "id": "532e7daf-0412-4a1a-a3bc-17ec0c55f85b",
   "metadata": {
    "tags": []
   },
   "outputs": [],
   "source": []
  },
  {
   "cell_type": "code",
   "execution_count": null,
   "id": "2b41cb07-80da-4ad8-a4c3-1c397633af30",
   "metadata": {
    "tags": []
   },
   "outputs": [],
   "source": []
  },
  {
   "cell_type": "markdown",
   "id": "b315d16f-210f-40c3-a3b2-e31a9f01e30b",
   "metadata": {
    "tags": [],
    "user_expressions": []
   },
   "source": [
    ":::{admonition} 💬 **Discussão**\n",
    ":class: tip\n",
    "\n",
    "Com base na figura acima 👆🏽, discuta em grupos de 2-3:\n",
    "\n",
    "1. Quais ambientes tectônicos são responsáveis pelo desajuste no canto superior esquerdo e inferior direito da figura? \n",
    "1. Qual é uma possível explicação geofísica/tectônica para esse desajuste?\n",
    "\n",
    ":::"
   ]
  },
  {
   "cell_type": "markdown",
   "id": "cb61f319-bc2a-47e8-9e8d-a981214b6b1e",
   "metadata": {
    "tags": [],
    "user_expressions": []
   },
   "source": [
    "::::{admonition} 🧘 **Sua vez: O que acontece nas dorsais?** \n",
    ":class: tip\n",
    "\n",
    "As dorsais estão em equilíbrio isostático, como vimos no mapa do distúrbio da gravidade na aula passada. Porém, o modelo Airy não é adequado para explicar a compensação isostática das dorsais.\n",
    "\n",
    "1. Qual modelo de compensação explica o equilíbrio nas dorsais?\n",
    "1. Derive a relação entre topografia e anomalia Bouguer para esse modelo e a implemente em uma função.\n",
    "1. Selecione uma parcela dos dados que contém uma dorsal e aplique seu modelo.\n",
    "1. O modelo ajusta os dados? Como esse modelo difere da previsão utilizando Airy?\n",
    "1. Qual é uma possível interpretação geológica/geofísica qu justifica o uso do modelo Pratt?\n",
    "\n",
    "::::"
   ]
  },
  {
   "cell_type": "markdown",
   "id": "14c744f0-cf4d-422f-8c87-17ad77ac5fed",
   "metadata": {
    "user_expressions": []
   },
   "source": [
    "## Ilhas oceânicas\n",
    "\n",
    "Uma das regiões que podemos identificar pelo mapa do distúrbio da gravidade como não estando compensadas isostaticamente são as ilhas oceânicas como o Havaí. "
   ]
  },
  {
   "cell_type": "code",
   "execution_count": null,
   "id": "5eab8139-be19-462b-9c08-0090a8964303",
   "metadata": {
    "tags": []
   },
   "outputs": [],
   "source": [
    "plt.figure(figsize=(12, 7))\n",
    "dados.disturbio.plot()"
   ]
  },
  {
   "cell_type": "markdown",
   "id": "87fe3a38-2edf-4561-b02a-90bfa2a9fe67",
   "metadata": {
    "user_expressions": []
   },
   "source": [
    "Vamos isolar os dados em torno o arquipélago Havaiano para ter uma ideia melhor dos valores de topografia e distúrbio da gravidade."
   ]
  },
  {
   "cell_type": "code",
   "execution_count": null,
   "id": "4fb59357-129a-4885-8d08-960cb91f0eb7",
   "metadata": {
    "tags": []
   },
   "outputs": [],
   "source": []
  },
  {
   "cell_type": "code",
   "execution_count": null,
   "id": "057ec96c-faf6-44db-9931-6bcca883e166",
   "metadata": {
    "tags": []
   },
   "outputs": [],
   "source": []
  },
  {
   "cell_type": "code",
   "execution_count": null,
   "id": "a0511ac6-132d-4ea0-a32e-e7b67ebcb252",
   "metadata": {
    "tags": []
   },
   "outputs": [],
   "source": []
  },
  {
   "cell_type": "markdown",
   "id": "c2e4dac9-0078-4cee-81da-a6f306027b16",
   "metadata": {
    "user_expressions": []
   },
   "source": [
    "Podemos verificar pelo gráfico de anamolia Bouguer por topografia que essa região não está compensada por um mecanismo Airy ou Pratt."
   ]
  },
  {
   "cell_type": "code",
   "execution_count": null,
   "id": "4eb609a5-01d6-4d87-a358-aaff00f3e0f6",
   "metadata": {
    "tags": []
   },
   "outputs": [],
   "source": []
  },
  {
   "cell_type": "markdown",
   "id": "5a0e6ef9-3128-4c85-b40f-ff78c5558120",
   "metadata": {
    "user_expressions": []
   },
   "source": [
    "## Flexura da litosfera oceânica\n",
    "\n",
    "A topografia elevada das ilhas oceânicas é sustentada pela própria rigidez da placa oceânica, que se deforma sob a carga das ilhas. Como vimos na aula teórica, nós podemos modelar essa deformação (a flexura) através da solução de uma equação diferencial utilizando a transformada rápida de Fourier (FFT).\n",
    "\n",
    "A aplicação da FFT necessita dados em coordenadas cartesianas. Logo, primeiro devemos projetar nossos dados. Aqui utilizarmos uma projeção Mercator. No final, teremos nossos dados com coordenadas Leste e Norte em metros."
   ]
  },
  {
   "cell_type": "code",
   "execution_count": null,
   "id": "00dd5bf8-6945-4e02-906c-7f7436b6052e",
   "metadata": {
    "tags": []
   },
   "outputs": [],
   "source": []
  },
  {
   "cell_type": "markdown",
   "id": "0a628d07-b6aa-4d91-97cf-030c5304026e",
   "metadata": {
    "user_expressions": []
   },
   "source": [
    "Em seguida, precisamos calcular somente o desvio da topografia com relação a uma batimetria mediana. Isso é necessário para alinhar nossos dados com o que o nosso modelo matemático espera."
   ]
  },
  {
   "cell_type": "code",
   "execution_count": null,
   "id": "99a952f6-e51e-4a91-bfbf-cc392161d05d",
   "metadata": {
    "tags": []
   },
   "outputs": [],
   "source": []
  },
  {
   "cell_type": "markdown",
   "id": "f6fde7d8-7d6a-4ba4-9d16-cc30fc2e25a5",
   "metadata": {
    "user_expressions": []
   },
   "source": [
    "Uma feição comum em ilhas oceânicas associadas com *hotspots* é um inchaço da crosta ao redor das ilhas (**thermal swell**) que é atribuído à dilatação térmica da litosfera causada pelo hotspot. Isso não faz parte do nosso modelo de flexura e então precisamos removê-lo antes da nossa modelagem. Faremos isso com um **filtro passa-alta** para remover esse efeito de longo comprimento de onda."
   ]
  },
  {
   "cell_type": "code",
   "execution_count": null,
   "id": "6b26071f-d59f-43ed-8f98-608aaf507b77",
   "metadata": {
    "tags": []
   },
   "outputs": [],
   "source": []
  },
  {
   "cell_type": "markdown",
   "id": "faef7ca8-8662-424f-8a77-7159507e8ecd",
   "metadata": {
    "user_expressions": []
   },
   "source": [
    "Agora podemos calcular o filtro no domínio da frequência entre a topografia e a flexura:\n",
    "\n",
    "$$\n",
    "W(k_x, k_y) = \\dfrac{-(\\rho_c - \\rho_w)}{(\\rho_m - \\rho_c)}\\left[1 + \\dfrac{D(2\\pi k)^4}{g(\\rho_m - \\rho_c)}\\right]^{-1} T(k_x, k_y)\n",
    "$$\n",
    "\n",
    "$$k = \\sqrt{k_x^2 + k_y^2}$$"
   ]
  },
  {
   "cell_type": "code",
   "execution_count": null,
   "id": "31c8e938-5b6e-4f76-9464-cecf600d461e",
   "metadata": {
    "tags": []
   },
   "outputs": [],
   "source": [
    "def filtro_flexura(\n",
    "    kx, ky, Te, densidade_crosta=2800, densidade_agua=1000, densidade_manto=3300, \n",
    "    young=6.5e10, poisson=0.25, gravidade=9.8,\n",
    "):\n",
    "    \"\"\"\n",
    "    Calcula o filtro da flexura no domínio da frequência.\n",
    "    \"\"\"\n",
    "    D = young * Te ** 3 / (\n",
    "        12 * (1 - poisson ** 2)\n",
    "    )\n",
    "    k = np.sqrt(ky**2 + kx**2)\n",
    "    filtro = (\n",
    "        \n",
    "    )\n",
    "    return filtro"
   ]
  },
  {
   "cell_type": "markdown",
   "id": "f7fbd5f1-c640-43a2-bc23-84e95f475c82",
   "metadata": {
    "user_expressions": []
   },
   "source": [
    "Agora podemos aplicar a FFT aos dados de topografia para realizar a modelagem. "
   ]
  },
  {
   "cell_type": "code",
   "execution_count": null,
   "id": "14069fa2-6554-40e8-b704-2805fdd4848b",
   "metadata": {
    "tags": []
   },
   "outputs": [],
   "source": []
  },
  {
   "cell_type": "code",
   "execution_count": null,
   "id": "167543cf-8286-4551-ad97-13a7aac45971",
   "metadata": {
    "tags": []
   },
   "outputs": [],
   "source": []
  },
  {
   "cell_type": "markdown",
   "id": "563a075f-6221-4e93-a80e-5398724589bd",
   "metadata": {
    "user_expressions": []
   },
   "source": [
    "::::{admonition} 🧘 **Sua vez: A espessura elástica efetiva** \n",
    ":class: tip\n",
    "\n",
    "A espessura elástica efetiva controla a forma da flexura da litosfera oceânica. Utilizando a figura interativa acima, responda:\n",
    "\n",
    "1. Qual é o efeito que aumentar ou diminuir $T_e$ tem na flexura estimada?\n",
    "1. Quando $T_e = 0$, o que acontece com nosso modelo de flexura? Observe tanto o resultado acima quanto a equação do filtro de flexura acima.\n",
    "1. Dada a questão anterior, qual relação você espera que exista entre $T_e$ e o distúrbio da gravidade sobre as ilhas?\n",
    "\n",
    "::::"
   ]
  },
  {
   "cell_type": "markdown",
   "id": "01f6cec1-52f4-40ad-9ff0-a299061b1833",
   "metadata": {
    "user_expressions": []
   },
   "source": [
    "## Distúrbio da gravidade versus topografia\n",
    "\n",
    "Vimos também em aula que podemos calcular o distúrbio da gravidade causado pela flexura assumindo que a Moho é deformada da mesma forma que a batimetria. Como temos dados de gravidade, podemos aplicar a FFT aos dados do distúrbio e dividir pela FFT da topografia. Essa operação estima o **valor do filtro entre a topografia e o distúrbio**, que podemos modelar com a equação:\n",
    "\n",
    "$$\n",
    "\\phi(k_x, k_y) = 2 \\pi G (\\rho_c - \\rho_w) e^{-2\\pi k s} \\left\\{ 1 -  \\left[1 + \\dfrac{D(2\\pi k)^4}{g(\\rho_m - \\rho_c)}\\right]^{-1}e^{-2\\pi k d} \\right\\}\n",
    "$$\n",
    "\n",
    "Mas antes disso, precisamos remover o efeito do *swell* dos nossos dados de distúrbio da gravidade, como fizemos para a topografia."
   ]
  },
  {
   "cell_type": "code",
   "execution_count": null,
   "id": "5814e7f1-7114-41b3-8659-0f028718ad5b",
   "metadata": {
    "tags": []
   },
   "outputs": [],
   "source": []
  },
  {
   "cell_type": "markdown",
   "id": "8b09d322-5514-4875-9f3b-86dfdf7c634c",
   "metadata": {
    "user_expressions": []
   },
   "source": [
    "Agora podemos aplicar a FFT e estimar o filtro observado como função do número de onda."
   ]
  },
  {
   "cell_type": "code",
   "execution_count": null,
   "id": "d6dd4909-21d5-4531-85ca-c4cba77640e5",
   "metadata": {
    "tags": []
   },
   "outputs": [],
   "source": []
  },
  {
   "cell_type": "markdown",
   "id": "396bf875-b410-4ee4-9fae-14b6641ca746",
   "metadata": {
    "user_expressions": []
   },
   "source": [
    "Nos altos números de onda, o filtro apresenta um comportamento disperso. Isso pode estar associado às diversas **zonas de falhas transformantes** que estão presentes na região e não obedecem a relação da flexura.\n",
    "\n",
    "Vamos calcular o valor predito do filtro e comparar com as observações."
   ]
  },
  {
   "cell_type": "code",
   "execution_count": null,
   "id": "bdbc3684-ce6e-433e-9ebc-2e5cdae9d57f",
   "metadata": {
    "tags": []
   },
   "outputs": [],
   "source": [
    "def filtro_flexura_grav(\n",
    "    kx, ky, Te, distancia, espessura_crosta,\n",
    "    densidade_crosta=2800, densidade_agua=1000, densidade_manto=3300, \n",
    "    young=6.5e10, poisson=0.25, gravidade=9.8,\n",
    "):\n",
    "    \"\"\"\n",
    "    Calcula o filtro para prever grav causado pela flexura.\n",
    "    \"\"\"\n",
    "    G = 6.67430e-11\n",
    "    D = young * Te ** 3 / (\n",
    "        12 * (1 - poisson ** 2)\n",
    "    )\n",
    "    k = np.sqrt(ky**2 + kx**2)\n",
    "    filtro = (\n",
    "      \n",
    "    \n",
    "    )\n",
    "    return filtro"
   ]
  },
  {
   "cell_type": "code",
   "execution_count": null,
   "id": "92571c57-522c-4184-8407-5182466245db",
   "metadata": {
    "tags": []
   },
   "outputs": [],
   "source": []
  },
  {
   "cell_type": "markdown",
   "id": "977b71e4-c555-4516-b7eb-bbbefd8e181b",
   "metadata": {
    "tags": [],
    "user_expressions": []
   },
   "source": [
    "Como podemos ver, o filtro observado pode ser utilizado para **estimar a espessura elástica efetiva** da litosfera oceânica."
   ]
  }
 ],
 "metadata": {
  "kernelspec": {
   "display_name": "Python [conda env:aula2023]",
   "language": "python",
   "name": "conda-env-aula2023-py"
  },
  "language_info": {
   "codemirror_mode": {
    "name": "ipython",
    "version": 3
   },
   "file_extension": ".py",
   "mimetype": "text/x-python",
   "name": "python",
   "nbconvert_exporter": "python",
   "pygments_lexer": "ipython3",
   "version": "3.10.10"
  },
  "widgets": {
   "application/vnd.jupyter.widget-state+json": {
    "state": {},
    "version_major": 2,
    "version_minor": 0
   }
  }
 },
 "nbformat": 4,
 "nbformat_minor": 5
}
